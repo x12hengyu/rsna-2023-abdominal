{
 "cells": [
  {
   "cell_type": "code",
   "execution_count": 1,
   "id": "c7099018",
   "metadata": {
    "execution": {
     "iopub.execute_input": "2023-09-22T16:11:03.327728Z",
     "iopub.status.busy": "2023-09-22T16:11:03.326854Z",
     "iopub.status.idle": "2023-09-22T16:11:15.396788Z",
     "shell.execute_reply": "2023-09-22T16:11:15.395574Z"
    },
    "papermill": {
     "duration": 12.087145,
     "end_time": "2023-09-22T16:11:15.399776",
     "exception": false,
     "start_time": "2023-09-22T16:11:03.312631",
     "status": "completed"
    },
    "tags": []
   },
   "outputs": [],
   "source": [
    "import os\n",
    "import pandas as pd\n",
    "import numpy as np\n",
    "import time\n",
    "import sklearn\n",
    "import matplotlib as mpl\n",
    "import matplotlib.pyplot as plt\n",
    "import keras\n",
    "import tensorflow as tf\n",
    "from tensorflow import keras\n",
    "from sklearn.model_selection import train_test_split\n",
    "import pydicom\n",
    "from functools import partial\n",
    "import gc\n",
    "\n",
    "%matplotlib inline"
   ]
  },
  {
   "cell_type": "code",
   "execution_count": 2,
   "id": "f766f73d",
   "metadata": {
    "execution": {
     "iopub.execute_input": "2023-09-22T16:11:15.426812Z",
     "iopub.status.busy": "2023-09-22T16:11:15.426072Z",
     "iopub.status.idle": "2023-09-22T16:11:15.467201Z",
     "shell.execute_reply": "2023-09-22T16:11:15.465980Z"
    },
    "papermill": {
     "duration": 0.057572,
     "end_time": "2023-09-22T16:11:15.469978",
     "exception": false,
     "start_time": "2023-09-22T16:11:15.412406",
     "status": "completed"
    },
    "tags": []
   },
   "outputs": [],
   "source": [
    "#dcm形式\n",
    "path = '/kaggle/input/rsna-2023-abdominal-trauma-detection'\n",
    "\n",
    "train = pd.read_csv(path + '/' + 'train.csv')\n",
    "train_series_meta = pd.read_csv(path + '/' + 'train_series_meta.csv') "
   ]
  },
  {
   "cell_type": "code",
   "execution_count": 3,
   "id": "1e541a18",
   "metadata": {
    "execution": {
     "iopub.execute_input": "2023-09-22T16:11:15.496673Z",
     "iopub.status.busy": "2023-09-22T16:11:15.495999Z",
     "iopub.status.idle": "2023-09-22T16:11:15.519980Z",
     "shell.execute_reply": "2023-09-22T16:11:15.518802Z"
    },
    "papermill": {
     "duration": 0.040183,
     "end_time": "2023-09-22T16:11:15.522579",
     "exception": false,
     "start_time": "2023-09-22T16:11:15.482396",
     "status": "completed"
    },
    "tags": []
   },
   "outputs": [
    {
     "data": {
      "text/html": [
       "<div>\n",
       "<style scoped>\n",
       "    .dataframe tbody tr th:only-of-type {\n",
       "        vertical-align: middle;\n",
       "    }\n",
       "\n",
       "    .dataframe tbody tr th {\n",
       "        vertical-align: top;\n",
       "    }\n",
       "\n",
       "    .dataframe thead th {\n",
       "        text-align: right;\n",
       "    }\n",
       "</style>\n",
       "<table border=\"1\" class=\"dataframe\">\n",
       "  <thead>\n",
       "    <tr style=\"text-align: right;\">\n",
       "      <th></th>\n",
       "      <th>patient_id</th>\n",
       "      <th>series_id</th>\n",
       "      <th>aortic_hu</th>\n",
       "      <th>incomplete_organ</th>\n",
       "    </tr>\n",
       "  </thead>\n",
       "  <tbody>\n",
       "    <tr>\n",
       "      <th>0</th>\n",
       "      <td>10004</td>\n",
       "      <td>21057</td>\n",
       "      <td>146.00</td>\n",
       "      <td>0</td>\n",
       "    </tr>\n",
       "    <tr>\n",
       "      <th>1</th>\n",
       "      <td>10004</td>\n",
       "      <td>51033</td>\n",
       "      <td>454.75</td>\n",
       "      <td>0</td>\n",
       "    </tr>\n",
       "  </tbody>\n",
       "</table>\n",
       "</div>"
      ],
      "text/plain": [
       "   patient_id  series_id  aortic_hu  incomplete_organ\n",
       "0       10004      21057     146.00                 0\n",
       "1       10004      51033     454.75                 0"
      ]
     },
     "execution_count": 3,
     "metadata": {},
     "output_type": "execute_result"
    }
   ],
   "source": [
    "train_series_meta.head(2)"
   ]
  },
  {
   "cell_type": "code",
   "execution_count": 4,
   "id": "40ae880e",
   "metadata": {
    "execution": {
     "iopub.execute_input": "2023-09-22T16:11:15.549479Z",
     "iopub.status.busy": "2023-09-22T16:11:15.549004Z",
     "iopub.status.idle": "2023-09-22T16:11:15.558717Z",
     "shell.execute_reply": "2023-09-22T16:11:15.557838Z"
    },
    "papermill": {
     "duration": 0.02592,
     "end_time": "2023-09-22T16:11:15.561171",
     "exception": false,
     "start_time": "2023-09-22T16:11:15.535251",
     "status": "completed"
    },
    "tags": []
   },
   "outputs": [],
   "source": [
    "patient_id_list = train_series_meta['patient_id'].unique()"
   ]
  },
  {
   "cell_type": "code",
   "execution_count": 5,
   "id": "807b4bf5",
   "metadata": {
    "execution": {
     "iopub.execute_input": "2023-09-22T16:11:15.588164Z",
     "iopub.status.busy": "2023-09-22T16:11:15.587748Z",
     "iopub.status.idle": "2023-09-22T16:11:15.601546Z",
     "shell.execute_reply": "2023-09-22T16:11:15.600363Z"
    },
    "papermill": {
     "duration": 0.030554,
     "end_time": "2023-09-22T16:11:15.604287",
     "exception": false,
     "start_time": "2023-09-22T16:11:15.573733",
     "status": "completed"
    },
    "tags": []
   },
   "outputs": [],
   "source": [
    "temp = train_series_meta[['patient_id', 'aortic_hu']]"
   ]
  },
  {
   "cell_type": "code",
   "execution_count": 6,
   "id": "fedb3e47",
   "metadata": {
    "execution": {
     "iopub.execute_input": "2023-09-22T16:11:15.631306Z",
     "iopub.status.busy": "2023-09-22T16:11:15.630863Z",
     "iopub.status.idle": "2023-09-22T16:11:17.181110Z",
     "shell.execute_reply": "2023-09-22T16:11:17.179864Z"
    },
    "papermill": {
     "duration": 1.567021,
     "end_time": "2023-09-22T16:11:17.184006",
     "exception": false,
     "start_time": "2023-09-22T16:11:15.616985",
     "status": "completed"
    },
    "tags": []
   },
   "outputs": [],
   "source": [
    "index_list = []\n",
    "for patient_id in patient_id_list:\n",
    "    temp_1 = temp[temp['patient_id'] == patient_id]['aortic_hu']\n",
    "    zero_or_one = np.argmin(temp_1)\n",
    "    index = temp_1.index[zero_or_one]\n",
    "    index_list.append(index)"
   ]
  },
  {
   "cell_type": "code",
   "execution_count": 7,
   "id": "48a3f5cf",
   "metadata": {
    "execution": {
     "iopub.execute_input": "2023-09-22T16:11:17.211088Z",
     "iopub.status.busy": "2023-09-22T16:11:17.210681Z",
     "iopub.status.idle": "2023-09-22T16:11:17.216412Z",
     "shell.execute_reply": "2023-09-22T16:11:17.215444Z"
    },
    "papermill": {
     "duration": 0.022037,
     "end_time": "2023-09-22T16:11:17.218656",
     "exception": false,
     "start_time": "2023-09-22T16:11:17.196619",
     "status": "completed"
    },
    "tags": []
   },
   "outputs": [],
   "source": [
    "train_series_meta = train_series_meta.iloc[index_list, :]"
   ]
  },
  {
   "cell_type": "code",
   "execution_count": 8,
   "id": "4a5eec91",
   "metadata": {
    "execution": {
     "iopub.execute_input": "2023-09-22T16:11:17.245737Z",
     "iopub.status.busy": "2023-09-22T16:11:17.245062Z",
     "iopub.status.idle": "2023-09-22T16:11:17.274335Z",
     "shell.execute_reply": "2023-09-22T16:11:17.273032Z"
    },
    "papermill": {
     "duration": 0.046072,
     "end_time": "2023-09-22T16:11:17.277387",
     "exception": false,
     "start_time": "2023-09-22T16:11:17.231315",
     "status": "completed"
    },
    "tags": []
   },
   "outputs": [
    {
     "data": {
      "text/html": [
       "<div>\n",
       "<style scoped>\n",
       "    .dataframe tbody tr th:only-of-type {\n",
       "        vertical-align: middle;\n",
       "    }\n",
       "\n",
       "    .dataframe tbody tr th {\n",
       "        vertical-align: top;\n",
       "    }\n",
       "\n",
       "    .dataframe thead th {\n",
       "        text-align: right;\n",
       "    }\n",
       "</style>\n",
       "<table border=\"1\" class=\"dataframe\">\n",
       "  <thead>\n",
       "    <tr style=\"text-align: right;\">\n",
       "      <th></th>\n",
       "      <th>patient_id</th>\n",
       "      <th>series_id</th>\n",
       "      <th>aortic_hu</th>\n",
       "      <th>incomplete_organ</th>\n",
       "      <th>bowel_healthy</th>\n",
       "      <th>bowel_injury</th>\n",
       "      <th>extravasation_healthy</th>\n",
       "      <th>extravasation_injury</th>\n",
       "      <th>kidney_healthy</th>\n",
       "      <th>kidney_low</th>\n",
       "      <th>kidney_high</th>\n",
       "      <th>liver_healthy</th>\n",
       "      <th>liver_low</th>\n",
       "      <th>liver_high</th>\n",
       "      <th>spleen_healthy</th>\n",
       "      <th>spleen_low</th>\n",
       "      <th>spleen_high</th>\n",
       "      <th>any_injury</th>\n",
       "    </tr>\n",
       "  </thead>\n",
       "  <tbody>\n",
       "    <tr>\n",
       "      <th>0</th>\n",
       "      <td>10004</td>\n",
       "      <td>21057</td>\n",
       "      <td>146.0</td>\n",
       "      <td>0</td>\n",
       "      <td>1</td>\n",
       "      <td>0</td>\n",
       "      <td>0</td>\n",
       "      <td>1</td>\n",
       "      <td>0</td>\n",
       "      <td>1</td>\n",
       "      <td>0</td>\n",
       "      <td>1</td>\n",
       "      <td>0</td>\n",
       "      <td>0</td>\n",
       "      <td>0</td>\n",
       "      <td>0</td>\n",
       "      <td>1</td>\n",
       "      <td>1</td>\n",
       "    </tr>\n",
       "    <tr>\n",
       "      <th>1</th>\n",
       "      <td>10005</td>\n",
       "      <td>18667</td>\n",
       "      <td>187.0</td>\n",
       "      <td>0</td>\n",
       "      <td>1</td>\n",
       "      <td>0</td>\n",
       "      <td>1</td>\n",
       "      <td>0</td>\n",
       "      <td>1</td>\n",
       "      <td>0</td>\n",
       "      <td>0</td>\n",
       "      <td>1</td>\n",
       "      <td>0</td>\n",
       "      <td>0</td>\n",
       "      <td>1</td>\n",
       "      <td>0</td>\n",
       "      <td>0</td>\n",
       "      <td>0</td>\n",
       "    </tr>\n",
       "  </tbody>\n",
       "</table>\n",
       "</div>"
      ],
      "text/plain": [
       "   patient_id  series_id  aortic_hu  incomplete_organ  bowel_healthy  \\\n",
       "0       10004      21057      146.0                 0              1   \n",
       "1       10005      18667      187.0                 0              1   \n",
       "\n",
       "   bowel_injury  extravasation_healthy  extravasation_injury  kidney_healthy  \\\n",
       "0             0                      0                     1               0   \n",
       "1             0                      1                     0               1   \n",
       "\n",
       "   kidney_low  kidney_high  liver_healthy  liver_low  liver_high  \\\n",
       "0           1            0              1          0           0   \n",
       "1           0            0              1          0           0   \n",
       "\n",
       "   spleen_healthy  spleen_low  spleen_high  any_injury  \n",
       "0               0           0            1           1  \n",
       "1               1           0            0           0  "
      ]
     },
     "execution_count": 8,
     "metadata": {},
     "output_type": "execute_result"
    }
   ],
   "source": [
    "df = pd.merge(train_series_meta, train,\n",
    "              how='inner', on='patient_id')\n",
    "df.head(2)"
   ]
  },
  {
   "cell_type": "code",
   "execution_count": 9,
   "id": "68c0c964",
   "metadata": {
    "execution": {
     "iopub.execute_input": "2023-09-22T16:11:17.305017Z",
     "iopub.status.busy": "2023-09-22T16:11:17.304567Z",
     "iopub.status.idle": "2023-09-22T16:11:17.309147Z",
     "shell.execute_reply": "2023-09-22T16:11:17.308289Z"
    },
    "papermill": {
     "duration": 0.021018,
     "end_time": "2023-09-22T16:11:17.311364",
     "exception": false,
     "start_time": "2023-09-22T16:11:17.290346",
     "status": "completed"
    },
    "tags": []
   },
   "outputs": [],
   "source": [
    "path = '/kaggle/input/rsna-abdominal-trauma-detection-png-pt1/'"
   ]
  },
  {
   "cell_type": "code",
   "execution_count": 10,
   "id": "f743dfcb",
   "metadata": {
    "execution": {
     "iopub.execute_input": "2023-09-22T16:11:17.339302Z",
     "iopub.status.busy": "2023-09-22T16:11:17.338930Z",
     "iopub.status.idle": "2023-09-22T16:11:17.669159Z",
     "shell.execute_reply": "2023-09-22T16:11:17.668238Z"
    },
    "papermill": {
     "duration": 0.347367,
     "end_time": "2023-09-22T16:11:17.671739",
     "exception": false,
     "start_time": "2023-09-22T16:11:17.324372",
     "status": "completed"
    },
    "tags": []
   },
   "outputs": [
    {
     "data": {
      "image/png": "[encoded data removed]",
      "text/plain": [
       "<Figure size 640x480 with 1 Axes>"
      ]
     },
     "metadata": {},
     "output_type": "display_data"
    }
   ],
   "source": [
    "plt.hist(df['aortic_hu'], bins = [10 * i for i in np.arange(60)])\n",
    "plt.show()"
   ]
  },
  {
   "cell_type": "code",
   "execution_count": 11,
   "id": "babd6320",
   "metadata": {
    "execution": {
     "iopub.execute_input": "2023-09-22T16:11:17.701128Z",
     "iopub.status.busy": "2023-09-22T16:11:17.699994Z",
     "iopub.status.idle": "2023-09-22T16:11:17.706946Z",
     "shell.execute_reply": "2023-09-22T16:11:17.705971Z"
    },
    "papermill": {
     "duration": 0.024351,
     "end_time": "2023-09-22T16:11:17.709561",
     "exception": false,
     "start_time": "2023-09-22T16:11:17.685210",
     "status": "completed"
    },
    "tags": []
   },
   "outputs": [
    {
     "name": "stdout",
     "output_type": "stream",
     "text": [
      "183.61193199872895 +- 75.33458217789367\n"
     ]
    }
   ],
   "source": [
    "print(df['aortic_hu'].mean(), '+-', df['aortic_hu'].std())"
   ]
  },
  {
   "cell_type": "code",
   "execution_count": 12,
   "id": "d3f54da9",
   "metadata": {
    "execution": {
     "iopub.execute_input": "2023-09-22T16:11:17.738982Z",
     "iopub.status.busy": "2023-09-22T16:11:17.737954Z",
     "iopub.status.idle": "2023-09-22T16:17:00.080816Z",
     "shell.execute_reply": "2023-09-22T16:17:00.079722Z"
    },
    "papermill": {
     "duration": 342.370827,
     "end_time": "2023-09-22T16:17:00.093960",
     "exception": false,
     "start_time": "2023-09-22T16:11:17.723133",
     "status": "completed"
    },
    "tags": []
   },
   "outputs": [
    {
     "name": "stdout",
     "output_type": "stream",
     "text": [
      "Process Complete \n",
      " PROCESSING TIME : 342.32786989212036\n"
     ]
    }
   ],
   "source": [
    "#dcm用\n",
    "dir_path = '/kaggle/input/rsna-2023-abdominal-trauma-detection/train_images/'\n",
    "\n",
    "\n",
    "train_image_path_list = []\n",
    "\n",
    "\n",
    "time_sta = time.time()\n",
    "\n",
    "for patient_id, series_id in zip(df['patient_id'], df['series_id']):\n",
    "    sub_dir_path = dir_path + f'{patient_id}/{series_id}'\n",
    "    list_object = os.listdir(sub_dir_path)\n",
    "    list_1 = map(lambda x: int(x.split('.')[0]), list_object)\n",
    "    list_2 = list(list_1)\n",
    "    num = np.min(list_2) + (np.max(list_2) - np.min(list_2))/4\n",
    "    image_path = sub_dir_path + f'/{int(num)}.dcm'\n",
    "    train_image_path_list.append(image_path)\n",
    "            \n",
    "\n",
    "\n",
    "\n",
    "#dcm形式用\n",
    "dicom_image_data_list = []\n",
    "for image_path in train_image_path_list:\n",
    "    image_dicom_data = pydicom.read_file(image_path)\n",
    "    dicom_image_data_list.append(image_dicom_data.pixel_array)\n",
    "    \n",
    "    del image_dicom_data\n",
    "\n",
    "dicom_image_arrays = []\n",
    "index_list = []\n",
    "index = 0\n",
    "for image_array in dicom_image_data_list:\n",
    "    if image_array.shape == (512, 512):\n",
    "        dicom_image_arrays.append(image_array)\n",
    "        index_list.append(index)\n",
    "    index = index + 1\n",
    "    \n",
    "\n",
    "time_end = time.time()\n",
    "\n",
    "tim = time_end - time_sta\n",
    "\n",
    "print('Process Complete', '\\n', 'PROCESSING TIME :', tim)"
   ]
  },
  {
   "cell_type": "code",
   "execution_count": 13,
   "id": "a75e9527",
   "metadata": {
    "execution": {
     "iopub.execute_input": "2023-09-22T16:17:00.123791Z",
     "iopub.status.busy": "2023-09-22T16:17:00.123185Z",
     "iopub.status.idle": "2023-09-22T16:17:00.132877Z",
     "shell.execute_reply": "2023-09-22T16:17:00.131653Z"
    },
    "papermill": {
     "duration": 0.027572,
     "end_time": "2023-09-22T16:17:00.135659",
     "exception": false,
     "start_time": "2023-09-22T16:17:00.108087",
     "status": "completed"
    },
    "tags": []
   },
   "outputs": [
    {
     "name": "stderr",
     "output_type": "stream",
     "text": [
      "/tmp/ipykernel_20/619525680.py:3: SettingWithCopyWarning: \n",
      "A value is trying to be set on a copy of a slice from a DataFrame\n",
      "\n",
      "See the caveats in the documentation: https://pandas.pydata.org/pandas-docs/stable/user_guide/indexing.html#returning-a-view-versus-a-copy\n",
      "  label_data.drop(['patient_id', 'series_id', 'aortic_hu', 'incomplete_organ', 'any_injury'], axis = 1, inplace = True)\n"
     ]
    }
   ],
   "source": [
    "df_copy = df.copy()\n",
    "label_data = df_copy.iloc[index_list, :]\n",
    "label_data.drop(['patient_id', 'series_id', 'aortic_hu', 'incomplete_organ', 'any_injury'], axis = 1, inplace = True)"
   ]
  },
  {
   "cell_type": "code",
   "execution_count": 14,
   "id": "cb95cdc3",
   "metadata": {
    "execution": {
     "iopub.execute_input": "2023-09-22T16:17:00.164272Z",
     "iopub.status.busy": "2023-09-22T16:17:00.163811Z",
     "iopub.status.idle": "2023-09-22T16:17:00.171730Z",
     "shell.execute_reply": "2023-09-22T16:17:00.170506Z"
    },
    "papermill": {
     "duration": 0.025036,
     "end_time": "2023-09-22T16:17:00.174162",
     "exception": false,
     "start_time": "2023-09-22T16:17:00.149126",
     "status": "completed"
    },
    "tags": []
   },
   "outputs": [],
   "source": [
    "def damage_reviser(organ):\n",
    "    temp = label_data[[f'{organ}_healthy', f'{organ}_injury']]\n",
    "    list_organ = [0 for _ in range(temp.shape[0])]\n",
    "    for index in range(len(list_organ)):\n",
    "        series = temp.iloc[index, :]\n",
    "        if series[1] == 1:\n",
    "            list_organ[index] = 1\n",
    "        else:\n",
    "            None\n",
    "    return list_organ\n",
    "\n",
    "def drop_damage_columns(organ):\n",
    "    label_data.drop([f'{organ}_healthy', f'{organ}_injury'], axis = 1, inplace = True)"
   ]
  },
  {
   "cell_type": "code",
   "execution_count": 15,
   "id": "5c987c1a",
   "metadata": {
    "execution": {
     "iopub.execute_input": "2023-09-22T16:17:00.202921Z",
     "iopub.status.busy": "2023-09-22T16:17:00.202512Z",
     "iopub.status.idle": "2023-09-22T16:17:00.705564Z",
     "shell.execute_reply": "2023-09-22T16:17:00.704346Z"
    },
    "papermill": {
     "duration": 0.520721,
     "end_time": "2023-09-22T16:17:00.708459",
     "exception": false,
     "start_time": "2023-09-22T16:17:00.187738",
     "status": "completed"
    },
    "tags": []
   },
   "outputs": [
    {
     "name": "stderr",
     "output_type": "stream",
     "text": [
      "/tmp/ipykernel_20/1340123651.py:4: SettingWithCopyWarning: \n",
      "A value is trying to be set on a copy of a slice from a DataFrame.\n",
      "Try using .loc[row_indexer,col_indexer] = value instead\n",
      "\n",
      "See the caveats in the documentation: https://pandas.pydata.org/pandas-docs/stable/user_guide/indexing.html#returning-a-view-versus-a-copy\n",
      "  label_data['bowel'] = list_bowel\n",
      "/tmp/ipykernel_20/1340123651.py:5: SettingWithCopyWarning: \n",
      "A value is trying to be set on a copy of a slice from a DataFrame.\n",
      "Try using .loc[row_indexer,col_indexer] = value instead\n",
      "\n",
      "See the caveats in the documentation: https://pandas.pydata.org/pandas-docs/stable/user_guide/indexing.html#returning-a-view-versus-a-copy\n",
      "  label_data['extravasation'] = list_extravasation\n",
      "/tmp/ipykernel_20/3554152675.py:13: SettingWithCopyWarning: \n",
      "A value is trying to be set on a copy of a slice from a DataFrame\n",
      "\n",
      "See the caveats in the documentation: https://pandas.pydata.org/pandas-docs/stable/user_guide/indexing.html#returning-a-view-versus-a-copy\n",
      "  label_data.drop([f'{organ}_healthy', f'{organ}_injury'], axis = 1, inplace = True)\n",
      "/tmp/ipykernel_20/3554152675.py:13: SettingWithCopyWarning: \n",
      "A value is trying to be set on a copy of a slice from a DataFrame\n",
      "\n",
      "See the caveats in the documentation: https://pandas.pydata.org/pandas-docs/stable/user_guide/indexing.html#returning-a-view-versus-a-copy\n",
      "  label_data.drop([f'{organ}_healthy', f'{organ}_injury'], axis = 1, inplace = True)\n"
     ]
    }
   ],
   "source": [
    "list_bowel = damage_reviser('bowel')\n",
    "list_extravasation = damage_reviser('extravasation')\n",
    "\n",
    "label_data['bowel'] = list_bowel\n",
    "label_data['extravasation'] = list_extravasation\n",
    "\n",
    "drop_damage_columns('bowel')\n",
    "drop_damage_columns('extravasation')"
   ]
  },
  {
   "cell_type": "code",
   "execution_count": 16,
   "id": "cc27ea55",
   "metadata": {
    "execution": {
     "iopub.execute_input": "2023-09-22T16:17:00.737739Z",
     "iopub.status.busy": "2023-09-22T16:17:00.737281Z",
     "iopub.status.idle": "2023-09-22T16:17:00.770295Z",
     "shell.execute_reply": "2023-09-22T16:17:00.769074Z"
    },
    "papermill": {
     "duration": 0.050691,
     "end_time": "2023-09-22T16:17:00.772743",
     "exception": false,
     "start_time": "2023-09-22T16:17:00.722052",
     "status": "completed"
    },
    "tags": []
   },
   "outputs": [
    {
     "data": {
      "text/html": [
       "<div>\n",
       "<style scoped>\n",
       "    .dataframe tbody tr th:only-of-type {\n",
       "        vertical-align: middle;\n",
       "    }\n",
       "\n",
       "    .dataframe tbody tr th {\n",
       "        vertical-align: top;\n",
       "    }\n",
       "\n",
       "    .dataframe thead th {\n",
       "        text-align: right;\n",
       "    }\n",
       "</style>\n",
       "<table border=\"1\" class=\"dataframe\">\n",
       "  <thead>\n",
       "    <tr style=\"text-align: right;\">\n",
       "      <th></th>\n",
       "      <th>kidney_healthy</th>\n",
       "      <th>kidney_low</th>\n",
       "      <th>kidney_high</th>\n",
       "      <th>liver_healthy</th>\n",
       "      <th>liver_low</th>\n",
       "      <th>liver_high</th>\n",
       "      <th>spleen_healthy</th>\n",
       "      <th>spleen_low</th>\n",
       "      <th>spleen_high</th>\n",
       "      <th>bowel</th>\n",
       "      <th>extravasation</th>\n",
       "    </tr>\n",
       "  </thead>\n",
       "  <tbody>\n",
       "    <tr>\n",
       "      <th>0</th>\n",
       "      <td>0</td>\n",
       "      <td>1</td>\n",
       "      <td>0</td>\n",
       "      <td>1</td>\n",
       "      <td>0</td>\n",
       "      <td>0</td>\n",
       "      <td>0</td>\n",
       "      <td>0</td>\n",
       "      <td>1</td>\n",
       "      <td>0</td>\n",
       "      <td>1</td>\n",
       "    </tr>\n",
       "    <tr>\n",
       "      <th>1</th>\n",
       "      <td>1</td>\n",
       "      <td>0</td>\n",
       "      <td>0</td>\n",
       "      <td>1</td>\n",
       "      <td>0</td>\n",
       "      <td>0</td>\n",
       "      <td>1</td>\n",
       "      <td>0</td>\n",
       "      <td>0</td>\n",
       "      <td>0</td>\n",
       "      <td>0</td>\n",
       "    </tr>\n",
       "    <tr>\n",
       "      <th>2</th>\n",
       "      <td>1</td>\n",
       "      <td>0</td>\n",
       "      <td>0</td>\n",
       "      <td>1</td>\n",
       "      <td>0</td>\n",
       "      <td>0</td>\n",
       "      <td>1</td>\n",
       "      <td>0</td>\n",
       "      <td>0</td>\n",
       "      <td>0</td>\n",
       "      <td>0</td>\n",
       "    </tr>\n",
       "  </tbody>\n",
       "</table>\n",
       "</div>"
      ],
      "text/plain": [
       "   kidney_healthy  kidney_low  kidney_high  liver_healthy  liver_low  \\\n",
       "0               0           1            0              1          0   \n",
       "1               1           0            0              1          0   \n",
       "2               1           0            0              1          0   \n",
       "\n",
       "   liver_high  spleen_healthy  spleen_low  spleen_high  bowel  extravasation  \n",
       "0           0               0           0            1      0              1  \n",
       "1           0               1           0            0      0              0  \n",
       "2           0               1           0            0      0              0  "
      ]
     },
     "execution_count": 16,
     "metadata": {},
     "output_type": "execute_result"
    }
   ],
   "source": [
    "label_data.to_csv('label_data')\n",
    "label_data.head(3)"
   ]
  },
  {
   "cell_type": "code",
   "execution_count": 17,
   "id": "cfa7908e",
   "metadata": {
    "execution": {
     "iopub.execute_input": "2023-09-22T16:17:00.801878Z",
     "iopub.status.busy": "2023-09-22T16:17:00.801484Z",
     "iopub.status.idle": "2023-09-22T16:17:00.810426Z",
     "shell.execute_reply": "2023-09-22T16:17:00.809461Z"
    },
    "papermill": {
     "duration": 0.026468,
     "end_time": "2023-09-22T16:17:00.812941",
     "exception": false,
     "start_time": "2023-09-22T16:17:00.786473",
     "status": "completed"
    },
    "tags": []
   },
   "outputs": [],
   "source": [
    "X_train, X_valid, y_train, y_valid = train_test_split(dicom_image_arrays, label_data, test_size = 0.2, random_state = 89)"
   ]
  },
  {
   "cell_type": "code",
   "execution_count": 18,
   "id": "42d47318",
   "metadata": {
    "execution": {
     "iopub.execute_input": "2023-09-22T16:17:00.842866Z",
     "iopub.status.busy": "2023-09-22T16:17:00.842470Z",
     "iopub.status.idle": "2023-09-22T16:17:02.089658Z",
     "shell.execute_reply": "2023-09-22T16:17:02.088642Z"
    },
    "papermill": {
     "duration": 1.265407,
     "end_time": "2023-09-22T16:17:02.092448",
     "exception": false,
     "start_time": "2023-09-22T16:17:00.827041",
     "status": "completed"
    },
    "tags": []
   },
   "outputs": [],
   "source": [
    "X_train = np.array(X_train)\n",
    "X_valid = np.array(X_valid)\n",
    "\n",
    "X_train = X_train[..., np.newaxis]\n",
    "X_valid = X_valid[..., np.newaxis]\n",
    "\n",
    "y_train = np.array(y_train)\n",
    "y_valid = np.array(y_valid)\n",
    "\n",
    "y_train_1 = y_train[:, -1].reshape(-1, 1)\n",
    "y_train_2 = y_train[:, -2].reshape(-1, 1)\n",
    "y_train_3 = y_train[:, 0:3].reshape(-1, 3)\n",
    "y_train_4 = y_train[:, 3:6].reshape(-1, 3)\n",
    "y_train_5 = y_train[:, 6:9].reshape(-1, 3)"
   ]
  },
  {
   "cell_type": "code",
   "execution_count": 19,
   "id": "1e2df7fb",
   "metadata": {
    "execution": {
     "iopub.execute_input": "2023-09-22T16:17:02.121524Z",
     "iopub.status.busy": "2023-09-22T16:17:02.121146Z",
     "iopub.status.idle": "2023-09-22T16:17:05.358024Z",
     "shell.execute_reply": "2023-09-22T16:17:05.356834Z"
    },
    "papermill": {
     "duration": 3.254585,
     "end_time": "2023-09-22T16:17:05.360839",
     "exception": false,
     "start_time": "2023-09-22T16:17:02.106254",
     "status": "completed"
    },
    "tags": []
   },
   "outputs": [],
   "source": [
    "np.save('X_train', X_train)\n",
    "np.save('X_valid', X_valid)\n",
    "np.save('y_train', y_train)\n",
    "np.save('y_valid', y_valid)"
   ]
  },
  {
   "cell_type": "markdown",
   "id": "bdb4545f",
   "metadata": {
    "papermill": {
     "duration": 0.058026,
     "end_time": "2023-09-22T16:17:07.533636",
     "exception": false,
     "start_time": "2023-09-22T16:17:07.475610",
     "status": "completed"
    },
    "tags": []
   },
   "source": [
    "# Build Metrics"
   ]
  },
  {
   "cell_type": "markdown",
   "id": "9f5edcbb",
   "metadata": {
    "papermill": {
     "duration": 0.058736,
     "end_time": "2023-09-22T16:17:07.715976",
     "exception": false,
     "start_time": "2023-09-22T16:17:07.657240",
     "status": "completed"
    },
    "tags": []
   },
   "source": [
    "# Build Model"
   ]
  },
  {
   "cell_type": "code",
   "execution_count": 20,
   "id": "912666dd",
   "metadata": {
    "execution": {
     "iopub.execute_input": "2023-09-22T16:17:07.836083Z",
     "iopub.status.busy": "2023-09-22T16:17:07.835651Z",
     "iopub.status.idle": "2023-09-22T16:17:11.457413Z",
     "shell.execute_reply": "2023-09-22T16:17:11.455737Z"
    },
    "papermill": {
     "duration": 3.686015,
     "end_time": "2023-09-22T16:17:11.460342",
     "exception": false,
     "start_time": "2023-09-22T16:17:07.774327",
     "status": "completed"
    },
    "tags": []
   },
   "outputs": [],
   "source": [
    "input = keras.layers.Input(shape=(X_train.shape[1:]))\n",
    "\n",
    "conv_layer = partial(keras.layers.Conv2D, \n",
    "                     kernel_size = 3, activation = 'relu', padding = 'SAME')\n",
    "dense_layer = partial(keras.layers.Dense,\n",
    "                     activation = 'elu', kernel_initializer = 'he_normal')\n",
    "\n",
    "# Encoder\n",
    "conv1 = conv_layer(filters=32)(input)\n",
    "conv2 = conv_layer(filters=32)(conv1)\n",
    "pool1 = keras.layers.MaxPooling2D(2)(conv2)\n",
    "dropout1 = keras.layers.Dropout(0.25)(pool1)\n",
    "\n",
    "conv3 = conv_layer(filters=64)(dropout1)\n",
    "conv4 = conv_layer(filters=64)(conv3)\n",
    "pool2 = keras.layers.MaxPooling2D(2)(conv4)\n",
    "dropout2 = keras.layers.Dropout(0.25)(pool2)\n",
    "\n",
    "flat = keras.layers.Flatten()(dropout2)\n",
    "dense = dense_layer(units=128)(flat)\n",
    "bn = keras.layers.BatchNormalization()(dense)\n",
    "dropout = keras.layers.Dropout(0.5)(bn)\n",
    "\n",
    "# Output\n",
    "output_bowel = keras.layers.Dense(1, activation='sigmoid', name='output_bowel')(dropout)\n",
    "output_extravasation = keras.layers.Dense(1, activation='sigmoid', name='output_extravasation')(dropout)\n",
    "output_kidney = keras.layers.Dense(3, activation='softmax', name='output_kidney')(dropout)\n",
    "output_liver = keras.layers.Dense(3, activation='softmax', name='output_liver')(dropout)\n",
    "output_spleen = keras.layers.Dense(3, activation='softmax', name='output_spleen')(dropout)\n",
    "\n",
    "model = keras.models.Model(input, [output_bowel, output_extravasation, output_kidney, output_liver, output_spleen])\n",
    "\n",
    "optimizer = keras.optimizers.Nadam(learning_rate=0.00014)\n",
    "loss = {\n",
    "    'output_bowel':tf.keras.losses.BinaryCrossentropy(label_smoothing=0.05),\n",
    "    'output_extravasation':tf.keras.losses.BinaryCrossentropy(label_smoothing=0.05),\n",
    "    'output_liver':tf.keras.losses.CategoricalCrossentropy(label_smoothing=0.05),\n",
    "    'output_kidney':tf.keras.losses.CategoricalCrossentropy(label_smoothing=0.05),\n",
    "    'output_spleen':tf.keras.losses.CategoricalCrossentropy(label_smoothing=0.05),\n",
    "        }\n",
    "model.compile(loss=loss, optimizer=optimizer)"
   ]
  },
  {
   "cell_type": "code",
   "execution_count": 21,
   "id": "67b5eca4",
   "metadata": {
    "execution": {
     "iopub.execute_input": "2023-09-22T16:17:19.815792Z",
     "iopub.status.busy": "2023-09-22T16:17:19.815005Z",
     "iopub.status.idle": "2023-09-22T16:17:19.893115Z",
     "shell.execute_reply": "2023-09-22T16:17:19.891796Z"
    },
    "papermill": {
     "duration": 0.129858,
     "end_time": "2023-09-22T16:17:19.913329",
     "exception": false,
     "start_time": "2023-09-22T16:17:19.783471",
     "status": "completed"
    },
    "tags": []
   },
   "outputs": [
    {
     "name": "stdout",
     "output_type": "stream",
     "text": [
      "Model: \"model\"\n",
      "__________________________________________________________________________________________________\n",
      " Layer (type)                   Output Shape         Param #     Connected to                     \n",
      "==================================================================================================\n",
      " input_1 (InputLayer)           [(None, 512, 512, 1  0           []                               \n",
      "                                )]                                                                \n",
      "                                                                                                  \n",
      " conv2d (Conv2D)                (None, 512, 512, 32  320         ['input_1[0][0]']                \n",
      "                                )                                                                 \n",
      "                                                                                                  \n",
      " conv2d_1 (Conv2D)              (None, 512, 512, 32  9248        ['conv2d[0][0]']                 \n",
      "                                )                                                                 \n",
      "                                                                                                  \n",
      " max_pooling2d (MaxPooling2D)   (None, 256, 256, 32  0           ['conv2d_1[0][0]']               \n",
      "                                )                                                                 \n",
      "                                                                                                  \n",
      " dropout (Dropout)              (None, 256, 256, 32  0           ['max_pooling2d[0][0]']          \n",
      "                                )                                                                 \n",
      "                                                                                                  \n",
      " conv2d_2 (Conv2D)              (None, 256, 256, 64  18496       ['dropout[0][0]']                \n",
      "                                )                                                                 \n",
      "                                                                                                  \n",
      " conv2d_3 (Conv2D)              (None, 256, 256, 64  36928       ['conv2d_2[0][0]']               \n",
      "                                )                                                                 \n",
      "                                                                                                  \n",
      " max_pooling2d_1 (MaxPooling2D)  (None, 128, 128, 64  0          ['conv2d_3[0][0]']               \n",
      "                                )                                                                 \n",
      "                                                                                                  \n",
      " dropout_1 (Dropout)            (None, 128, 128, 64  0           ['max_pooling2d_1[0][0]']        \n",
      "                                )                                                                 \n",
      "                                                                                                  \n",
      " flatten (Flatten)              (None, 1048576)      0           ['dropout_1[0][0]']              \n",
      "                                                                                                  \n",
      " dense (Dense)                  (None, 128)          134217856   ['flatten[0][0]']                \n",
      "                                                                                                  \n",
      " batch_normalization (BatchNorm  (None, 128)         512         ['dense[0][0]']                  \n",
      " alization)                                                                                       \n",
      "                                                                                                  \n",
      " dropout_2 (Dropout)            (None, 128)          0           ['batch_normalization[0][0]']    \n",
      "                                                                                                  \n",
      " output_bowel (Dense)           (None, 1)            129         ['dropout_2[0][0]']              \n",
      "                                                                                                  \n",
      " output_extravasation (Dense)   (None, 1)            129         ['dropout_2[0][0]']              \n",
      "                                                                                                  \n",
      " output_kidney (Dense)          (None, 3)            387         ['dropout_2[0][0]']              \n",
      "                                                                                                  \n",
      " output_liver (Dense)           (None, 3)            387         ['dropout_2[0][0]']              \n",
      "                                                                                                  \n",
      " output_spleen (Dense)          (None, 3)            387         ['dropout_2[0][0]']              \n",
      "                                                                                                  \n",
      "==================================================================================================\n",
      "Total params: 134,284,779\n",
      "Trainable params: 134,284,523\n",
      "Non-trainable params: 256\n",
      "__________________________________________________________________________________________________\n"
     ]
    }
   ],
   "source": [
    "model.summary()"
   ]
  },
  {
   "cell_type": "code",
   "execution_count": 22,
   "id": "2375bc7e",
   "metadata": {
    "execution": {
     "iopub.execute_input": "2023-09-22T16:17:19.966177Z",
     "iopub.status.busy": "2023-09-22T16:17:19.965772Z",
     "iopub.status.idle": "2023-09-22T16:17:19.972506Z",
     "shell.execute_reply": "2023-09-22T16:17:19.971674Z"
    },
    "papermill": {
     "duration": 0.032423,
     "end_time": "2023-09-22T16:17:19.975032",
     "exception": false,
     "start_time": "2023-09-22T16:17:19.942609",
     "status": "completed"
    },
    "tags": []
   },
   "outputs": [],
   "source": [
    "early_stopping_cb = keras.callbacks.EarlyStopping(patience = 10)\n",
    "model_checkpoint_cb = keras.callbacks.ModelCheckpoint('my_model.h5', save_best_only = True)\n",
    "run_index = 1\n",
    "run_logdir = os.path.join(os.curdir, 'my_classifier',  \"run_{:03d}\".format(run_index))\n",
    "tensorboard_cb = keras.callbacks.TensorBoard(run_logdir)\n",
    "\n",
    "callbacks = [early_stopping_cb, tensorboard_cb, model_checkpoint_cb]"
   ]
  },
  {
   "cell_type": "code",
   "execution_count": 23,
   "id": "e214c301",
   "metadata": {
    "execution": {
     "iopub.execute_input": "2023-09-22T16:17:20.021253Z",
     "iopub.status.busy": "2023-09-22T16:17:20.020844Z",
     "iopub.status.idle": "2023-09-22T16:53:08.609774Z",
     "shell.execute_reply": "2023-09-22T16:53:08.608528Z"
    },
    "papermill": {
     "duration": 2148.615252,
     "end_time": "2023-09-22T16:53:08.612733",
     "exception": false,
     "start_time": "2023-09-22T16:17:19.997481",
     "status": "completed"
    },
    "tags": []
   },
   "outputs": [
    {
     "name": "stdout",
     "output_type": "stream",
     "text": [
      "77/77 [==============================] - 2138s 28s/step - loss: 5.7827 - output_bowel_loss: 0.8350 - output_extravasation_loss: 0.8220 - output_kidney_loss: 1.4131 - output_liver_loss: 1.3771 - output_spleen_loss: 1.3354\n"
     ]
    },
    {
     "data": {
      "text/plain": [
       "<keras.callbacks.History at 0x7a80d897e470>"
      ]
     },
     "execution_count": 23,
     "metadata": {},
     "output_type": "execute_result"
    }
   ],
   "source": [
    "model.fit(X_train, \n",
    "          {'output_bowel':y_train_1,\n",
    "           'output_extravasation':y_train_2,\n",
    "           'output_kidney':y_train_3,\n",
    "           'output_liver':y_train_4,\n",
    "           'output_spleen':y_train_5},\n",
    "          epochs = 1,\n",
    "          callbacks = callbacks)"
   ]
  },
  {
   "cell_type": "code",
   "execution_count": 24,
   "id": "ac53c084",
   "metadata": {
    "execution": {
     "iopub.execute_input": "2023-09-22T16:53:08.670083Z",
     "iopub.status.busy": "2023-09-22T16:53:08.668831Z",
     "iopub.status.idle": "2023-09-22T16:53:11.143961Z",
     "shell.execute_reply": "2023-09-22T16:53:11.142942Z"
    },
    "papermill": {
     "duration": 2.507434,
     "end_time": "2023-09-22T16:53:11.146823",
     "exception": false,
     "start_time": "2023-09-22T16:53:08.639389",
     "status": "completed"
    },
    "tags": []
   },
   "outputs": [],
   "source": [
    "model.save('Unet.keras')"
   ]
  },
  {
   "cell_type": "code",
   "execution_count": 25,
   "id": "84e3ee4b",
   "metadata": {
    "execution": {
     "iopub.execute_input": "2023-09-22T16:53:11.201616Z",
     "iopub.status.busy": "2023-09-22T16:53:11.201197Z",
     "iopub.status.idle": "2023-09-22T16:53:21.362384Z",
     "shell.execute_reply": "2023-09-22T16:53:21.361082Z"
    },
    "papermill": {
     "duration": 10.192178,
     "end_time": "2023-09-22T16:53:21.365293",
     "exception": false,
     "start_time": "2023-09-22T16:53:11.173115",
     "status": "completed"
    },
    "tags": []
   },
   "outputs": [],
   "source": [
    "model = keras.models.load_model('/kaggle/working/Unet.keras')"
   ]
  },
  {
   "cell_type": "code",
   "execution_count": 26,
   "id": "5a34898d",
   "metadata": {
    "execution": {
     "iopub.execute_input": "2023-09-22T16:53:21.420225Z",
     "iopub.status.busy": "2023-09-22T16:53:21.419769Z",
     "iopub.status.idle": "2023-09-22T16:53:21.487862Z",
     "shell.execute_reply": "2023-09-22T16:53:21.486456Z"
    },
    "papermill": {
     "duration": 0.105269,
     "end_time": "2023-09-22T16:53:21.497163",
     "exception": false,
     "start_time": "2023-09-22T16:53:21.391894",
     "status": "completed"
    },
    "tags": []
   },
   "outputs": [
    {
     "name": "stdout",
     "output_type": "stream",
     "text": [
      "Model: \"model\"\n",
      "__________________________________________________________________________________________________\n",
      " Layer (type)                   Output Shape         Param #     Connected to                     \n",
      "==================================================================================================\n",
      " input_1 (InputLayer)           [(None, 512, 512, 1  0           []                               \n",
      "                                )]                                                                \n",
      "                                                                                                  \n",
      " conv2d (Conv2D)                (None, 512, 512, 32  320         ['input_1[0][0]']                \n",
      "                                )                                                                 \n",
      "                                                                                                  \n",
      " conv2d_1 (Conv2D)              (None, 512, 512, 32  9248        ['conv2d[0][0]']                 \n",
      "                                )                                                                 \n",
      "                                                                                                  \n",
      " max_pooling2d (MaxPooling2D)   (None, 256, 256, 32  0           ['conv2d_1[0][0]']               \n",
      "                                )                                                                 \n",
      "                                                                                                  \n",
      " dropout (Dropout)              (None, 256, 256, 32  0           ['max_pooling2d[0][0]']          \n",
      "                                )                                                                 \n",
      "                                                                                                  \n",
      " conv2d_2 (Conv2D)              (None, 256, 256, 64  18496       ['dropout[0][0]']                \n",
      "                                )                                                                 \n",
      "                                                                                                  \n",
      " conv2d_3 (Conv2D)              (None, 256, 256, 64  36928       ['conv2d_2[0][0]']               \n",
      "                                )                                                                 \n",
      "                                                                                                  \n",
      " max_pooling2d_1 (MaxPooling2D)  (None, 128, 128, 64  0          ['conv2d_3[0][0]']               \n",
      "                                )                                                                 \n",
      "                                                                                                  \n",
      " dropout_1 (Dropout)            (None, 128, 128, 64  0           ['max_pooling2d_1[0][0]']        \n",
      "                                )                                                                 \n",
      "                                                                                                  \n",
      " flatten (Flatten)              (None, 1048576)      0           ['dropout_1[0][0]']              \n",
      "                                                                                                  \n",
      " dense (Dense)                  (None, 128)          134217856   ['flatten[0][0]']                \n",
      "                                                                                                  \n",
      " batch_normalization (BatchNorm  (None, 128)         512         ['dense[0][0]']                  \n",
      " alization)                                                                                       \n",
      "                                                                                                  \n",
      " dropout_2 (Dropout)            (None, 128)          0           ['batch_normalization[0][0]']    \n",
      "                                                                                                  \n",
      " output_bowel (Dense)           (None, 1)            129         ['dropout_2[0][0]']              \n",
      "                                                                                                  \n",
      " output_extravasation (Dense)   (None, 1)            129         ['dropout_2[0][0]']              \n",
      "                                                                                                  \n",
      " output_kidney (Dense)          (None, 3)            387         ['dropout_2[0][0]']              \n",
      "                                                                                                  \n",
      " output_liver (Dense)           (None, 3)            387         ['dropout_2[0][0]']              \n",
      "                                                                                                  \n",
      " output_spleen (Dense)          (None, 3)            387         ['dropout_2[0][0]']              \n",
      "                                                                                                  \n",
      "==================================================================================================\n",
      "Total params: 134,284,779\n",
      "Trainable params: 134,284,523\n",
      "Non-trainable params: 256\n",
      "__________________________________________________________________________________________________\n"
     ]
    }
   ],
   "source": [
    "model.summary()"
   ]
  },
  {
   "cell_type": "markdown",
   "id": "c1638d5a",
   "metadata": {
    "papermill": {
     "duration": 0.030877,
     "end_time": "2023-09-22T16:53:21.559560",
     "exception": false,
     "start_time": "2023-09-22T16:53:21.528683",
     "status": "completed"
    },
    "tags": []
   },
   "source": [
    "# Prediction"
   ]
  },
  {
   "cell_type": "code",
   "execution_count": 27,
   "id": "04be9c35",
   "metadata": {
    "execution": {
     "iopub.execute_input": "2023-09-22T16:53:21.623718Z",
     "iopub.status.busy": "2023-09-22T16:53:21.623308Z",
     "iopub.status.idle": "2023-09-22T16:53:21.666717Z",
     "shell.execute_reply": "2023-09-22T16:53:21.665770Z"
    },
    "papermill": {
     "duration": 0.079059,
     "end_time": "2023-09-22T16:53:21.669821",
     "exception": false,
     "start_time": "2023-09-22T16:53:21.590762",
     "status": "completed"
    },
    "tags": []
   },
   "outputs": [],
   "source": [
    "test_path = '/kaggle/input/rsna-2023-abdominal-trauma-detection/test_images'\n",
    "num_list = os.listdir(test_path)\n",
    "num_list = sorted(num_list)\n",
    "\n",
    "test_image_path_list = []\n",
    "\n",
    "\n",
    "for patient_id in num_list:\n",
    "    test_dir_path = test_path + f'/{patient_id}'\n",
    "    list_object = os.listdir(test_dir_path)\n",
    "    list_object = sorted(list_object)\n",
    "    for sub_dir_id in list_object:\n",
    "        sub_dir_path = test_dir_path + f'/{sub_dir_id}'\n",
    "        dicom_num_list = os.listdir(sub_dir_path)\n",
    "        dicom_num_list = sorted(dicom_num_list)\n",
    "        for dicom_id in dicom_num_list:\n",
    "            image_path = sub_dir_path + f'/{dicom_id}'\n",
    "            test_image_path_list.append(image_path)"
   ]
  },
  {
   "cell_type": "code",
   "execution_count": 28,
   "id": "ee63a152",
   "metadata": {
    "execution": {
     "iopub.execute_input": "2023-09-22T16:53:21.735871Z",
     "iopub.status.busy": "2023-09-22T16:53:21.735443Z",
     "iopub.status.idle": "2023-09-22T16:53:22.925665Z",
     "shell.execute_reply": "2023-09-22T16:53:22.924473Z"
    },
    "papermill": {
     "duration": 1.225626,
     "end_time": "2023-09-22T16:53:22.928420",
     "exception": false,
     "start_time": "2023-09-22T16:53:21.702794",
     "status": "completed"
    },
    "tags": []
   },
   "outputs": [],
   "source": [
    "import gc\n",
    "\n",
    "dicom_image_test_list = []\n",
    "for image_path in test_image_path_list:\n",
    "    image_dicom_data = pydicom.read_file(image_path)\n",
    "    array = image_dicom_data.pixel_array\n",
    "    array = array[..., np.newaxis]\n",
    "    if array.shape == (512, 512, 1):\n",
    "        dicom_image_test_list.append(array)\n",
    "    else:\n",
    "        resized_array = tf.image.resize_with_pad(array, 512, 512, antialias=True)\n",
    "        dicom_image_test_list.append(resized_array)\n",
    "\n",
    "    # image_dicom_data と array のメモリ解放\n",
    "    del image_dicom_data\n",
    "    del array\n",
    "\n",
    "    # ガベージコレクションの実行\n",
    "    gc.collect()"
   ]
  },
  {
   "cell_type": "code",
   "execution_count": 29,
   "id": "3a4692da",
   "metadata": {
    "execution": {
     "iopub.execute_input": "2023-09-22T16:53:22.993551Z",
     "iopub.status.busy": "2023-09-22T16:53:22.992342Z",
     "iopub.status.idle": "2023-09-22T16:53:23.061278Z",
     "shell.execute_reply": "2023-09-22T16:53:23.059876Z"
    },
    "papermill": {
     "duration": 0.114182,
     "end_time": "2023-09-22T16:53:23.073971",
     "exception": false,
     "start_time": "2023-09-22T16:53:22.959789",
     "status": "completed"
    },
    "tags": []
   },
   "outputs": [
    {
     "name": "stdout",
     "output_type": "stream",
     "text": [
      "Model: \"model\"\n",
      "__________________________________________________________________________________________________\n",
      " Layer (type)                   Output Shape         Param #     Connected to                     \n",
      "==================================================================================================\n",
      " input_1 (InputLayer)           [(None, 512, 512, 1  0           []                               \n",
      "                                )]                                                                \n",
      "                                                                                                  \n",
      " conv2d (Conv2D)                (None, 512, 512, 32  320         ['input_1[0][0]']                \n",
      "                                )                                                                 \n",
      "                                                                                                  \n",
      " conv2d_1 (Conv2D)              (None, 512, 512, 32  9248        ['conv2d[0][0]']                 \n",
      "                                )                                                                 \n",
      "                                                                                                  \n",
      " max_pooling2d (MaxPooling2D)   (None, 256, 256, 32  0           ['conv2d_1[0][0]']               \n",
      "                                )                                                                 \n",
      "                                                                                                  \n",
      " dropout (Dropout)              (None, 256, 256, 32  0           ['max_pooling2d[0][0]']          \n",
      "                                )                                                                 \n",
      "                                                                                                  \n",
      " conv2d_2 (Conv2D)              (None, 256, 256, 64  18496       ['dropout[0][0]']                \n",
      "                                )                                                                 \n",
      "                                                                                                  \n",
      " conv2d_3 (Conv2D)              (None, 256, 256, 64  36928       ['conv2d_2[0][0]']               \n",
      "                                )                                                                 \n",
      "                                                                                                  \n",
      " max_pooling2d_1 (MaxPooling2D)  (None, 128, 128, 64  0          ['conv2d_3[0][0]']               \n",
      "                                )                                                                 \n",
      "                                                                                                  \n",
      " dropout_1 (Dropout)            (None, 128, 128, 64  0           ['max_pooling2d_1[0][0]']        \n",
      "                                )                                                                 \n",
      "                                                                                                  \n",
      " flatten (Flatten)              (None, 1048576)      0           ['dropout_1[0][0]']              \n",
      "                                                                                                  \n",
      " dense (Dense)                  (None, 128)          134217856   ['flatten[0][0]']                \n",
      "                                                                                                  \n",
      " batch_normalization (BatchNorm  (None, 128)         512         ['dense[0][0]']                  \n",
      " alization)                                                                                       \n",
      "                                                                                                  \n",
      " dropout_2 (Dropout)            (None, 128)          0           ['batch_normalization[0][0]']    \n",
      "                                                                                                  \n",
      " output_bowel (Dense)           (None, 1)            129         ['dropout_2[0][0]']              \n",
      "                                                                                                  \n",
      " output_extravasation (Dense)   (None, 1)            129         ['dropout_2[0][0]']              \n",
      "                                                                                                  \n",
      " output_kidney (Dense)          (None, 3)            387         ['dropout_2[0][0]']              \n",
      "                                                                                                  \n",
      " output_liver (Dense)           (None, 3)            387         ['dropout_2[0][0]']              \n",
      "                                                                                                  \n",
      " output_spleen (Dense)          (None, 3)            387         ['dropout_2[0][0]']              \n",
      "                                                                                                  \n",
      "==================================================================================================\n",
      "Total params: 134,284,779\n",
      "Trainable params: 134,284,523\n",
      "Non-trainable params: 256\n",
      "__________________________________________________________________________________________________\n"
     ]
    }
   ],
   "source": [
    "model.summary()"
   ]
  },
  {
   "cell_type": "code",
   "execution_count": 30,
   "id": "eedd20e8",
   "metadata": {
    "execution": {
     "iopub.execute_input": "2023-09-22T16:53:23.150194Z",
     "iopub.status.busy": "2023-09-22T16:53:23.149579Z",
     "iopub.status.idle": "2023-09-22T16:53:23.156826Z",
     "shell.execute_reply": "2023-09-22T16:53:23.155635Z"
    },
    "papermill": {
     "duration": 0.047693,
     "end_time": "2023-09-22T16:53:23.159531",
     "exception": false,
     "start_time": "2023-09-22T16:53:23.111838",
     "status": "completed"
    },
    "tags": []
   },
   "outputs": [
    {
     "data": {
      "text/plain": [
       "['/kaggle/input/rsna-2023-abdominal-trauma-detection/test_images/48843/62825/30.dcm',\n",
       " '/kaggle/input/rsna-2023-abdominal-trauma-detection/test_images/50046/24574/30.dcm',\n",
       " '/kaggle/input/rsna-2023-abdominal-trauma-detection/test_images/63706/39279/30.dcm']"
      ]
     },
     "execution_count": 30,
     "metadata": {},
     "output_type": "execute_result"
    }
   ],
   "source": [
    "test_image_path_list"
   ]
  },
  {
   "cell_type": "code",
   "execution_count": 31,
   "id": "eeb71f81",
   "metadata": {
    "execution": {
     "iopub.execute_input": "2023-09-22T16:53:23.234454Z",
     "iopub.status.busy": "2023-09-22T16:53:23.234048Z",
     "iopub.status.idle": "2023-09-22T16:53:24.148418Z",
     "shell.execute_reply": "2023-09-22T16:53:24.147085Z"
    },
    "papermill": {
     "duration": 0.956207,
     "end_time": "2023-09-22T16:53:24.151988",
     "exception": false,
     "start_time": "2023-09-22T16:53:23.195781",
     "status": "completed"
    },
    "tags": []
   },
   "outputs": [
    {
     "name": "stdout",
     "output_type": "stream",
     "text": [
      "1/1 [==============================] - 1s 808ms/step\n"
     ]
    }
   ],
   "source": [
    "dicom_image_test_list = []\n",
    "for image_path in test_image_path_list:\n",
    "    image_dicom_data = pydicom.read_file(image_path)\n",
    "    array = image_dicom_data.pixel_array\n",
    "    array = array[..., np.newaxis]\n",
    "    if array.shape == (512, 512, 1):\n",
    "        dicom_image_test_list.append(array)\n",
    "    else:\n",
    "        resized_array = tf.image.resize_with_pad(array, 512, 512, antialias = True)\n",
    "        dicom_image_test_list.append(resized_array)\n",
    "\n",
    "X_test = np.array(dicom_image_test_list)\n",
    "\n",
    "answer = model.predict(X_test)"
   ]
  },
  {
   "cell_type": "code",
   "execution_count": 32,
   "id": "29427c9e",
   "metadata": {
    "execution": {
     "iopub.execute_input": "2023-09-22T16:53:24.243284Z",
     "iopub.status.busy": "2023-09-22T16:53:24.242817Z",
     "iopub.status.idle": "2023-09-22T16:53:24.258534Z",
     "shell.execute_reply": "2023-09-22T16:53:24.257677Z"
    },
    "papermill": {
     "duration": 0.06087,
     "end_time": "2023-09-22T16:53:24.260958",
     "exception": false,
     "start_time": "2023-09-22T16:53:24.200088",
     "status": "completed"
    },
    "tags": []
   },
   "outputs": [],
   "source": [
    "submission =pd.DataFrame({})\n",
    "\n",
    "submission['patient_id'] = num_list\n",
    "submission['bowel_healthy'] = 1 - answer[0]\n",
    "submission['bowel_injury'] = answer[0]\n",
    "submission['extravasation_healthy'] = 1 - answer[1]\n",
    "submission['extravasation_injury'] = answer[1]\n",
    "submission[['kidney_healthy', 'kidney_low', 'kidney_high']] = answer[2]\n",
    "submission[['liver_healthy', 'liver_low', 'liver_high']] = answer[3]\n",
    "submission[['spleen_healthy', 'spleen_low', 'spleen_high']] = answer[4]"
   ]
  },
  {
   "cell_type": "code",
   "execution_count": 33,
   "id": "24837da4",
   "metadata": {
    "execution": {
     "iopub.execute_input": "2023-09-22T16:53:24.342571Z",
     "iopub.status.busy": "2023-09-22T16:53:24.342144Z",
     "iopub.status.idle": "2023-09-22T16:53:24.347707Z",
     "shell.execute_reply": "2023-09-22T16:53:24.346673Z"
    },
    "papermill": {
     "duration": 0.04914,
     "end_time": "2023-09-22T16:53:24.350427",
     "exception": false,
     "start_time": "2023-09-22T16:53:24.301287",
     "status": "completed"
    },
    "tags": []
   },
   "outputs": [],
   "source": [
    "submission = pd.DataFrame(submission)"
   ]
  },
  {
   "cell_type": "code",
   "execution_count": 34,
   "id": "639aa2f2",
   "metadata": {
    "execution": {
     "iopub.execute_input": "2023-09-22T16:53:24.431268Z",
     "iopub.status.busy": "2023-09-22T16:53:24.430435Z",
     "iopub.status.idle": "2023-09-22T16:53:24.451258Z",
     "shell.execute_reply": "2023-09-22T16:53:24.450393Z"
    },
    "papermill": {
     "duration": 0.063376,
     "end_time": "2023-09-22T16:53:24.454387",
     "exception": false,
     "start_time": "2023-09-22T16:53:24.391011",
     "status": "completed"
    },
    "tags": []
   },
   "outputs": [
    {
     "data": {
      "text/html": [
       "<div>\n",
       "<style scoped>\n",
       "    .dataframe tbody tr th:only-of-type {\n",
       "        vertical-align: middle;\n",
       "    }\n",
       "\n",
       "    .dataframe tbody tr th {\n",
       "        vertical-align: top;\n",
       "    }\n",
       "\n",
       "    .dataframe thead th {\n",
       "        text-align: right;\n",
       "    }\n",
       "</style>\n",
       "<table border=\"1\" class=\"dataframe\">\n",
       "  <thead>\n",
       "    <tr style=\"text-align: right;\">\n",
       "      <th></th>\n",
       "      <th>patient_id</th>\n",
       "      <th>bowel_healthy</th>\n",
       "      <th>bowel_injury</th>\n",
       "      <th>extravasation_healthy</th>\n",
       "      <th>extravasation_injury</th>\n",
       "      <th>kidney_healthy</th>\n",
       "      <th>kidney_low</th>\n",
       "      <th>kidney_high</th>\n",
       "      <th>liver_healthy</th>\n",
       "      <th>liver_low</th>\n",
       "      <th>liver_high</th>\n",
       "      <th>spleen_healthy</th>\n",
       "      <th>spleen_low</th>\n",
       "      <th>spleen_high</th>\n",
       "    </tr>\n",
       "  </thead>\n",
       "  <tbody>\n",
       "    <tr>\n",
       "      <th>0</th>\n",
       "      <td>48843</td>\n",
       "      <td>0.573462</td>\n",
       "      <td>0.426538</td>\n",
       "      <td>0.475564</td>\n",
       "      <td>0.524436</td>\n",
       "      <td>0.198073</td>\n",
       "      <td>0.323877</td>\n",
       "      <td>0.478050</td>\n",
       "      <td>0.121606</td>\n",
       "      <td>0.342084</td>\n",
       "      <td>0.536310</td>\n",
       "      <td>0.303027</td>\n",
       "      <td>0.256580</td>\n",
       "      <td>0.440393</td>\n",
       "    </tr>\n",
       "    <tr>\n",
       "      <th>1</th>\n",
       "      <td>50046</td>\n",
       "      <td>0.674290</td>\n",
       "      <td>0.325710</td>\n",
       "      <td>0.453784</td>\n",
       "      <td>0.546216</td>\n",
       "      <td>0.186294</td>\n",
       "      <td>0.267800</td>\n",
       "      <td>0.545906</td>\n",
       "      <td>0.154463</td>\n",
       "      <td>0.301109</td>\n",
       "      <td>0.544428</td>\n",
       "      <td>0.298428</td>\n",
       "      <td>0.287569</td>\n",
       "      <td>0.414003</td>\n",
       "    </tr>\n",
       "    <tr>\n",
       "      <th>2</th>\n",
       "      <td>63706</td>\n",
       "      <td>0.595390</td>\n",
       "      <td>0.404610</td>\n",
       "      <td>0.453029</td>\n",
       "      <td>0.546971</td>\n",
       "      <td>0.194818</td>\n",
       "      <td>0.364310</td>\n",
       "      <td>0.440872</td>\n",
       "      <td>0.171080</td>\n",
       "      <td>0.319098</td>\n",
       "      <td>0.509823</td>\n",
       "      <td>0.303744</td>\n",
       "      <td>0.298359</td>\n",
       "      <td>0.397897</td>\n",
       "    </tr>\n",
       "  </tbody>\n",
       "</table>\n",
       "</div>"
      ],
      "text/plain": [
       "  patient_id  bowel_healthy  bowel_injury  extravasation_healthy  \\\n",
       "0      48843       0.573462      0.426538               0.475564   \n",
       "1      50046       0.674290      0.325710               0.453784   \n",
       "2      63706       0.595390      0.404610               0.453029   \n",
       "\n",
       "   extravasation_injury  kidney_healthy  kidney_low  kidney_high  \\\n",
       "0              0.524436        0.198073    0.323877     0.478050   \n",
       "1              0.546216        0.186294    0.267800     0.545906   \n",
       "2              0.546971        0.194818    0.364310     0.440872   \n",
       "\n",
       "   liver_healthy  liver_low  liver_high  spleen_healthy  spleen_low  \\\n",
       "0       0.121606   0.342084    0.536310        0.303027    0.256580   \n",
       "1       0.154463   0.301109    0.544428        0.298428    0.287569   \n",
       "2       0.171080   0.319098    0.509823        0.303744    0.298359   \n",
       "\n",
       "   spleen_high  \n",
       "0     0.440393  \n",
       "1     0.414003  \n",
       "2     0.397897  "
      ]
     },
     "execution_count": 34,
     "metadata": {},
     "output_type": "execute_result"
    }
   ],
   "source": [
    "submission"
   ]
  },
  {
   "cell_type": "code",
   "execution_count": 35,
   "id": "e3003839",
   "metadata": {
    "execution": {
     "iopub.execute_input": "2023-09-22T16:53:24.536321Z",
     "iopub.status.busy": "2023-09-22T16:53:24.534736Z",
     "iopub.status.idle": "2023-09-22T16:53:24.543885Z",
     "shell.execute_reply": "2023-09-22T16:53:24.542975Z"
    },
    "papermill": {
     "duration": 0.052924,
     "end_time": "2023-09-22T16:53:24.546527",
     "exception": false,
     "start_time": "2023-09-22T16:53:24.493603",
     "status": "completed"
    },
    "tags": []
   },
   "outputs": [],
   "source": [
    "submission.to_csv('submission.csv', index = False)"
   ]
  },
  {
   "cell_type": "code",
   "execution_count": null,
   "id": "2d57c164",
   "metadata": {
    "papermill": {
     "duration": 0.037622,
     "end_time": "2023-09-22T16:53:24.623682",
     "exception": false,
     "start_time": "2023-09-22T16:53:24.586060",
     "status": "completed"
    },
    "tags": []
   },
   "outputs": [],
   "source": []
  }
 ],
 "metadata": {
  "kernelspec": {
   "display_name": "Python 3",
   "language": "python",
   "name": "python3"
  },
  "language_info": {
   "codemirror_mode": {
    "name": "ipython",
    "version": 3
   },
   "file_extension": ".py",
   "mimetype": "text/x-python",
   "name": "python",
   "nbconvert_exporter": "python",
   "pygments_lexer": "ipython3",
   "version": "3.10.12"
  },
  "papermill": {
   "default_parameters": {},
   "duration": 2548.150186,
   "end_time": "2023-09-22T16:53:27.690393",
   "environment_variables": {},
   "exception": null,
   "input_path": "__notebook__.ipynb",
   "output_path": "__notebook__.ipynb",
   "parameters": {},
   "start_time": "2023-09-22T16:10:59.540207",
   "version": "2.4.0"
  }
 },
 "nbformat": 4,
 "nbformat_minor": 5
}
